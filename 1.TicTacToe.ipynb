{
 "cells": [
  {
   "cell_type": "code",
   "execution_count": 13,
   "metadata": {},
   "outputs": [],
   "source": [
    "import numpy as np\n",
    "np.__version__\n",
    "import math"
   ]
  },
  {
   "cell_type": "code",
   "execution_count": null,
   "metadata": {},
   "outputs": [],
   "source": [
    "class TicTacToe:\n",
    "    def __init__(self, size=3):\n",
    "        # square shape\n",
    "        self.row_count    = size\n",
    "        self.column_count = size\n",
    "\n",
    "        self.action_size = self.row_count * self.column_count\n",
    "\n",
    "    def get_initial_state(self):\n",
    "        return np.zeros((self.row_count, self.column_count), dtype=np.int8)\n",
    "\n",
    "    def action_to_row_col(self, action):\n",
    "        \"\"\"turn action number into row and column\"\"\"\n",
    "        row    = action // self.column_count\n",
    "        column = action  % self.column_count\n",
    "\n",
    "        return row, column\n",
    "\n",
    "    def get_next_state(self, state, action, player):\n",
    "        row, column = self.action_to_row_col(action)\n",
    "        \n",
    "        state[row, column] = player\n",
    "        return state\n",
    "\n",
    "    def get_valid_moves(self, state):\n",
    "        return (state.reshape(-1) == 0).astype(np.uint8)\n",
    "\n",
    "    def check_win(self, state, action):\n",
    "        if action == None:\n",
    "            return False\n",
    "\n",
    "        row, column = self.action_to_row_col(action)\n",
    "        # infer the player from the state\n",
    "        player = state[row, column]\n",
    "\n",
    "        return (\n",
    "            np.sum(state[row, :])       == player * self.column_count\n",
    "            or np.sum(state[:, column]) == player * self.row_count\n",
    "            or np.sum(np.diag(state))   == player * self.row_count # TODO: this only makes sense for square... why do we track column and row count separately?\n",
    "            or np.sum(np.diag(np.fliplr(state))) == player * self.row_count\n",
    "        )\n",
    "    \n",
    "    def check_value_and_terminated(self, state, action):\n",
    "        if self.check_win(state, action):\n",
    "            return 1, True\n",
    "        elif np.sum(self.get_valid_moves(state)) == 0:\n",
    "            return 0, True\n",
    "        else:\n",
    "            return 0, False\n",
    "        \n",
    "    def get_opponent(self, player):\n",
    "        return -player\n",
    "\n",
    "    def get_opponent_value(self, value):\n",
    "        return -value\n"
   ]
  },
  {
   "cell_type": "code",
   "execution_count": 6,
   "metadata": {},
   "outputs": [],
   "source": [
    "tictactoe = TicTacToe()\n",
    "player = 1\n",
    "\n",
    "state = tictactoe.get_initial_state()"
   ]
  },
  {
   "cell_type": "code",
   "execution_count": 7,
   "metadata": {},
   "outputs": [
    {
     "data": {
      "text/plain": [
       "array([[0, 0, 0],\n",
       "       [0, 0, 0],\n",
       "       [0, 0, 0]], dtype=int8)"
      ]
     },
     "execution_count": 7,
     "metadata": {},
     "output_type": "execute_result"
    }
   ],
   "source": [
    "state"
   ]
  },
  {
   "cell_type": "code",
   "execution_count": 8,
   "metadata": {},
   "outputs": [
    {
     "data": {
      "text/plain": [
       "array([1, 1, 1, 1, 1, 1, 1, 1, 1], dtype=uint8)"
      ]
     },
     "execution_count": 8,
     "metadata": {},
     "output_type": "execute_result"
    }
   ],
   "source": [
    "tictactoe.get_valid_moves(state)"
   ]
  },
  {
   "cell_type": "code",
   "execution_count": 11,
   "metadata": {},
   "outputs": [
    {
     "name": "stdout",
     "output_type": "stream",
     "text": [
      "[[0 0 0]\n",
      " [0 0 0]\n",
      " [0 0 0]]\n",
      "Valid moves:  [0, 1, 2, 3, 4, 5, 6, 7, 8]\n",
      "Player 1\n",
      "[[0 0 0]\n",
      " [0 1 0]\n",
      " [0 0 0]]\n",
      "Valid moves:  [0, 1, 2, 3, 5, 6, 7, 8]\n",
      "Player -1\n",
      "[[-1  0  0]\n",
      " [ 0  1  0]\n",
      " [ 0  0  0]]\n",
      "Valid moves:  [1, 2, 3, 5, 6, 7, 8]\n",
      "Player 1\n",
      "[[-1  1  0]\n",
      " [ 0  1  0]\n",
      " [ 0  0  0]]\n",
      "Valid moves:  [2, 3, 5, 6, 7, 8]\n",
      "Player -1\n",
      "[[-1  1  0]\n",
      " [ 0  1  0]\n",
      " [ 0  0 -1]]\n",
      "Valid moves:  [2, 3, 5, 6, 7]\n",
      "Player 1\n",
      "Invalid move\n",
      "[[-1  1  0]\n",
      " [ 0  1  0]\n",
      " [ 0  0 -1]]\n",
      "Valid moves:  [2, 3, 5, 6, 7]\n",
      "Player 1\n",
      "Player 1 won.\n",
      "[[-1  1  0]\n",
      " [ 0  1  0]\n",
      " [ 0  1 -1]]\n"
     ]
    }
   ],
   "source": [
    "tictactoe = TicTacToe()\n",
    "player = 1\n",
    "\n",
    "state = tictactoe.get_initial_state()\n",
    "\n",
    "while True:\n",
    "    print(state)\n",
    "    valid_moves = tictactoe.get_valid_moves(state)\n",
    "    print(\"Valid moves: \", [i for i in range(tictactoe.action_size) if valid_moves[i] == 1])\n",
    "    print (\"Player\", player)\n",
    "    action = int(input(f\"{player}: \"))\n",
    "    if valid_moves[action] == 0:\n",
    "        print(\"Invalid move\")\n",
    "        continue\n",
    "    state = tictactoe.get_next_state(state, action, player)\n",
    "    value, is_terminal = tictactoe.check_value_and_terminated(state, action)\n",
    "    if is_terminal:\n",
    "        if value == 1:\n",
    "            print(f\"Player {player} won.\")\n",
    "        else:\n",
    "            print(f\"Draw!\")\n",
    "        print(state)\n",
    "        break\n",
    "    player = tictactoe.get_opponent(player)\n"
   ]
  },
  {
   "cell_type": "code",
   "execution_count": null,
   "metadata": {},
   "outputs": [],
   "source": [
    "class Node:\n",
    "    def __init__(self, game, args, state, parent=None, action_taken=None):\n",
    "        self.game = game\n",
    "        self.args = args\n",
    "        self.state = state\n",
    "        self.parent = parent\n",
    "        self.action_taken = action_taken\n",
    "\n",
    "        self.children = []\n",
    "        self.expandable_moves = game.get_valid_moves(state)\n",
    "        self.visit_count = 0\n",
    "        self.value_sum = 0\n",
    "\n",
    "    def is_fully_expanded(self):\n",
    "        return np.sum(self.expandable_moves) == 0 and len(self.children) > 0\n",
    "    \n",
    "    def select(self):\n",
    "        \"\"\"pick the child that has the highest UCB score\"\"\"\n",
    "        best_child = None\n",
    "        best_ucb = -np.inf\n",
    "\n",
    "        for child in self.children:\n",
    "            ucb = self.get_ucb(child)\n",
    "            if ucb > best_ucb:\n",
    "                best_child = child\n",
    "                best_ucb = ucb\n",
    "        return best_child\n",
    "    \n",
    "    def get_ucb(self, child):\n",
    "        # \"1 -\" because the child node represents the other player\n",
    "        q_value = 1 - ((child.value_sum / child.visit_count) + 1) / 2\n",
    "        return q_value + self.args['C'] * math.sqrt(math.log(self.visit_count) / child.visit_count)\n",
    "\n",
    "    def expand(self):\n",
    "        \"\"\"Sample a random move from expandable_moves and expand the node\"\"\"\n",
    "        # WIP\n",
    "\n",
    "\n",
    "class MCTS:\n",
    "    def __init__(self, game, args):\n",
    "        self.game = game\n",
    "        self.args = args\n",
    "    \n",
    "    def search(self, state):\n",
    "        # define root node\n",
    "        root = Node(self.game, self.args, state)\n",
    "\n",
    "        for search in range(self.args['num_searches']):\n",
    "            node = root\n",
    "\n",
    "            # selection\n",
    "            while node.is_fully_expanded():\n",
    "                node = node.select()\n",
    "            \n",
    "            value, is_terminal = self.game.get_value_and_terminated(node.state, node.action_taken)\n",
    "            value = self.game.get_opponent_value(value)\n",
    "\n",
    "            if not is_terminal:\n",
    "                # expansion\n",
    "                node = node.expand()\n",
    "                # simulation\n",
    "            # backpropagation\n",
    "\n",
    "        # return visit_counts\n"
   ]
  }
 ],
 "metadata": {
  "kernelspec": {
   "display_name": "base",
   "language": "python",
   "name": "python3"
  },
  "language_info": {
   "codemirror_mode": {
    "name": "ipython",
    "version": 3
   },
   "file_extension": ".py",
   "mimetype": "text/x-python",
   "name": "python",
   "nbconvert_exporter": "python",
   "pygments_lexer": "ipython3",
   "version": "3.11.8"
  }
 },
 "nbformat": 4,
 "nbformat_minor": 2
}
