{
 "cells": [
  {
   "cell_type": "code",
   "execution_count": 4,
   "metadata": {},
   "outputs": [
    {
     "data": {
      "text/plain": [
       "'2.0.0'"
      ]
     },
     "execution_count": 4,
     "metadata": {},
     "output_type": "execute_result"
    }
   ],
   "source": [
    "import numpy as np\n",
    "import math\n",
    "\n",
    "np.__version__"
   ]
  },
  {
   "cell_type": "code",
   "execution_count": 5,
   "metadata": {},
   "outputs": [],
   "source": [
    "class TicTacToe:\n",
    "    def __init__(self, size=3):\n",
    "        # square shape\n",
    "        self.row_count    = size\n",
    "        self.column_count = size\n",
    "\n",
    "        self.action_size = self.row_count * self.column_count\n",
    "\n",
    "    def get_initial_state(self):\n",
    "        return np.zeros((self.row_count, self.column_count), dtype=np.int8)\n",
    "\n",
    "    # internal helper\n",
    "    def action_to_row_col(self, action):\n",
    "        \"\"\"turn action number into row and column\"\"\"\n",
    "        row    = action // self.column_count\n",
    "        column = action  % self.column_count\n",
    "\n",
    "        return row, column\n",
    "\n",
    "    def get_next_state(self, state, action, player):\n",
    "        row, column = self.action_to_row_col(action)\n",
    "        \n",
    "        state[row, column] = player\n",
    "        return state\n",
    "\n",
    "    def get_valid_moves(self, state):\n",
    "        return (state.reshape(-1) == 0).astype(np.uint8)\n",
    "\n",
    "    def check_win(self, state, action):\n",
    "        if action == None:\n",
    "            return False\n",
    "\n",
    "        row, column = self.action_to_row_col(action)\n",
    "        # infer the player from the state\n",
    "        player = state[row, column]\n",
    "\n",
    "        return (\n",
    "            np.sum(state[row, :])       == player * self.column_count\n",
    "            or np.sum(state[:, column]) == player * self.row_count\n",
    "            or np.sum(np.diag(state))   == player * self.row_count # TODO: this only makes sense for square... why do we track column and row count separately?\n",
    "            or np.sum(np.diag(np.fliplr(state))) == player * self.row_count\n",
    "        )\n",
    "    \n",
    "    def check_value_and_terminated(self, state, action):\n",
    "        if self.check_win(state, action):\n",
    "            return 1, True\n",
    "        elif np.sum(self.get_valid_moves(state)) == 0:\n",
    "            return 0, True\n",
    "        else:\n",
    "            return 0, False\n",
    "        \n",
    "    def get_opponent(self, player):\n",
    "        return -player\n",
    "\n",
    "    def get_opponent_value(self, value):\n",
    "        return -value\n"
   ]
  },
  {
   "cell_type": "code",
   "execution_count": 6,
   "metadata": {},
   "outputs": [],
   "source": [
    "tictactoe = TicTacToe()\n",
    "player = 1\n",
    "\n",
    "state = tictactoe.get_initial_state()"
   ]
  },
  {
   "cell_type": "code",
   "execution_count": 7,
   "metadata": {},
   "outputs": [
    {
     "data": {
      "text/plain": [
       "array([[0, 0, 0],\n",
       "       [0, 0, 0],\n",
       "       [0, 0, 0]], dtype=int8)"
      ]
     },
     "execution_count": 7,
     "metadata": {},
     "output_type": "execute_result"
    }
   ],
   "source": [
    "state"
   ]
  },
  {
   "cell_type": "code",
   "execution_count": 8,
   "metadata": {},
   "outputs": [
    {
     "data": {
      "text/plain": [
       "array([1, 1, 1, 1, 1, 1, 1, 1, 1], dtype=uint8)"
      ]
     },
     "execution_count": 8,
     "metadata": {},
     "output_type": "execute_result"
    }
   ],
   "source": [
    "tictactoe.get_valid_moves(state)"
   ]
  },
  {
   "cell_type": "code",
   "execution_count": 9,
   "metadata": {},
   "outputs": [
    {
     "name": "stdout",
     "output_type": "stream",
     "text": [
      "[[0 0 0]\n",
      " [0 1 0]\n",
      " [0 0 0]]\n"
     ]
    }
   ],
   "source": [
    "player = 1\n",
    "action = 4\n",
    "state = tictactoe.get_next_state(state, action, player)\n",
    "print(state)"
   ]
  },
  {
   "cell_type": "code",
   "execution_count": 10,
   "metadata": {},
   "outputs": [
    {
     "data": {
      "text/plain": [
       "array([1, 1, 1, 1, 0, 1, 1, 1, 1], dtype=uint8)"
      ]
     },
     "execution_count": 10,
     "metadata": {},
     "output_type": "execute_result"
    }
   ],
   "source": [
    "tictactoe.get_valid_moves(state)"
   ]
  },
  {
   "cell_type": "code",
   "execution_count": 22,
   "metadata": {},
   "outputs": [
    {
     "name": "stdout",
     "output_type": "stream",
     "text": [
      "[[0 0 0]\n",
      " [0 0 0]\n",
      " [0 0 0]]\n",
      "Player -1's available moves: [0, 1, 2, 3, 4, 5, 6, 7, 8]\n",
      "[[-1  0  0]\n",
      " [ 0  0  0]\n",
      " [ 0  0  0]]\n",
      "Player 1's available moves: [1, 2, 3, 4, 5, 6, 7, 8]\n",
      "[[-1  1  0]\n",
      " [ 0  0  0]\n",
      " [ 0  0  0]]\n",
      "Player -1's available moves: [2, 3, 4, 5, 6, 7, 8]\n",
      "[[-1  1  0]\n",
      " [-1  0  0]\n",
      " [ 0  0  0]]\n",
      "Player 1's available moves: [2, 4, 5, 6, 7, 8]\n",
      "[[-1  1  0]\n",
      " [-1  0  1]\n",
      " [ 0  0  0]]\n",
      "Player -1's available moves: [2, 4, 6, 7, 8]\n",
      "[[-1  1  0]\n",
      " [-1  0  1]\n",
      " [ 0 -1  0]]\n",
      "Player 1's available moves: [2, 4, 6, 8]\n",
      "[[-1  1  0]\n",
      " [-1  0  1]\n",
      " [ 1 -1  0]]\n",
      "Player -1's available moves: [2, 4, 8]\n",
      "Invalid input, please enter a number between 0 and 8.\n",
      "[[-1  1  0]\n",
      " [-1  0  1]\n",
      " [ 1 -1  0]]\n",
      "Player -1's available moves: [2, 4, 8]\n",
      "[[-1  1 -1]\n",
      " [-1  0  1]\n",
      " [ 1 -1  0]]\n",
      "Player 1's available moves: [4, 8]\n",
      "[[-1  1 -1]\n",
      " [-1  1  1]\n",
      " [ 1 -1  0]]\n",
      "Player -1's available moves: [8]\n",
      "It's a draw!\n",
      "[[-1  1 -1]\n",
      " [-1  1  1]\n",
      " [ 1 -1 -1]]\n"
     ]
    }
   ],
   "source": [
    "# let's play TicTacToe, we'll provide the input for each player as we go until the game is over, then print the results at the end\n",
    "tictactoe = TicTacToe()\n",
    "state = tictactoe.get_initial_state()\n",
    "player = -1\n",
    "while True:\n",
    "    print(state)\n",
    "    valid_moves = tictactoe.get_valid_moves(state)\n",
    "    print(f\"Player {player}'s available moves: {[i for i in range(len(valid_moves)) if valid_moves[i] == 1]}\")\n",
    "    try:\n",
    "        action = int(input(f\"Player {player} enter your move (0-8): \"))\n",
    "    except ValueError:\n",
    "        print(\"Invalid input, please enter a number between 0 and 8.\")\n",
    "        continue\n",
    "    if valid_moves[action] != 1:\n",
    "        print(\"Invalid move, try again.\")\n",
    "        continue\n",
    "    state = tictactoe.get_next_state(state, action, player)\n",
    "    value, terminated = tictactoe.check_value_and_terminated(state, action)\n",
    "    if terminated:\n",
    "        if value == 0:\n",
    "            print(\"It's a draw!\")\n",
    "        else:\n",
    "            print(f\"Player {player} wins!\")\n",
    "        print(state)\n",
    "        break\n",
    "    player = tictactoe.get_opponent(player)\n"
   ]
  },
  {
   "cell_type": "code",
   "execution_count": 32,
   "metadata": {},
   "outputs": [
    {
     "name": "stdout",
     "output_type": "stream",
     "text": [
      "Requirement already satisfied: matplotlib in /home/jim/miniconda3/lib/python3.11/site-packages (3.10.0)\n",
      "Requirement already satisfied: contourpy>=1.0.1 in /home/jim/miniconda3/lib/python3.11/site-packages (from matplotlib) (1.3.1)\n",
      "Requirement already satisfied: cycler>=0.10 in /home/jim/miniconda3/lib/python3.11/site-packages (from matplotlib) (0.12.1)\n",
      "Requirement already satisfied: fonttools>=4.22.0 in /home/jim/miniconda3/lib/python3.11/site-packages (from matplotlib) (4.56.0)\n",
      "Requirement already satisfied: kiwisolver>=1.3.1 in /home/jim/miniconda3/lib/python3.11/site-packages (from matplotlib) (1.4.8)\n",
      "Requirement already satisfied: numpy>=1.23 in /home/jim/miniconda3/lib/python3.11/site-packages (from matplotlib) (2.0.0)\n",
      "Requirement already satisfied: packaging>=20.0 in /home/jim/miniconda3/lib/python3.11/site-packages (from matplotlib) (23.1)\n",
      "Requirement already satisfied: pillow>=8 in /home/jim/miniconda3/lib/python3.11/site-packages (from matplotlib) (11.1.0)\n",
      "Requirement already satisfied: pyparsing>=2.3.1 in /home/jim/miniconda3/lib/python3.11/site-packages (from matplotlib) (3.2.1)\n",
      "Requirement already satisfied: python-dateutil>=2.7 in /home/jim/miniconda3/lib/python3.11/site-packages (from matplotlib) (2.8.2)\n",
      "Requirement already satisfied: six>=1.5 in /home/jim/miniconda3/lib/python3.11/site-packages (from python-dateutil>=2.7->matplotlib) (1.16.0)\n",
      "Note: you may need to restart the kernel to use updated packages.\n",
      "Search #1: [0.06937 0.06323 0.0723  0.05192 0.4962  0.05421 0.07047 0.05271 0.06959]\n"
     ]
    },
    {
     "data": {
      "image/png": "[encoded data removed]",
      "text/plain": [
       "<Figure size 1000x500 with 1 Axes>"
      ]
     },
     "metadata": {},
     "output_type": "display_data"
    },
    {
     "name": "stdout",
     "output_type": "stream",
     "text": [
      "Search #2: [0.07451 0.07072 0.07414 0.05666 0.45615 0.05736 0.07609 0.0607  0.07367]\n"
     ]
    },
    {
     "data": {
      "image/png": "[encoded data removed]",
      "text/plain": [
       "<Figure size 1000x500 with 1 Axes>"
      ]
     },
     "metadata": {},
     "output_type": "display_data"
    },
    {
     "name": "stdout",
     "output_type": "stream",
     "text": [
      "Search #3: [0.06748 0.06176 0.07252 0.06505 0.47144 0.06027 0.07188 0.06283 0.06677]\n"
     ]
    },
    {
     "data": {
      "image/png": "[encoded data removed]",
      "text/plain": [
       "<Figure size 1000x500 with 1 Axes>"
      ]
     },
     "metadata": {},
     "output_type": "display_data"
    }
   ],
   "source": [
    "# %pip install matplotlib\n",
    "\n",
    "from mcts_classic import MCTS\n",
    "from tictactoe import TicTacToe\n",
    "import matplotlib.pyplot as plt\n",
    "\n",
    "for i in range(3):\n",
    "    # Define game\n",
    "    game = TicTacToe()\n",
    "    state = game.get_initial_state()\n",
    "\n",
    "    # Run MCTS\n",
    "    mcts = MCTS(game, {'num_searches': 100000, 'C': 1.4})\n",
    "    action_probs = mcts.search(state)\n",
    "    print(f\"Search #{i+1}: {action_probs}\")\n",
    "    array = action_probs\n",
    "    plt.figure(figsize=(10, 5))\n",
    "    plt.bar(range(len(array)), array)\n",
    "    plt.xlabel('Index')\n",
    "    plt.ylabel('Value')\n",
    "    plt.title(f'Bar Graph for Array {i+1}')\n",
    "    plt.show()"
   ]
  }
 ],
 "metadata": {
  "kernelspec": {
   "display_name": "base",
   "language": "python",
   "name": "python3"
  },
  "language_info": {
   "codemirror_mode": {
    "name": "ipython",
    "version": 3
   },
   "file_extension": ".py",
   "mimetype": "text/x-python",
   "name": "python",
   "nbconvert_exporter": "python",
   "pygments_lexer": "ipython3",
   "version": "3.11.8"
  }
 },
 "nbformat": 4,
 "nbformat_minor": 2
}
